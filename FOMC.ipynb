{
  "nbformat": 4,
  "nbformat_minor": 0,
  "metadata": {
    "colab": {
      "name": "FOMC.ipynb",
      "version": "0.3.2",
      "provenance": [],
      "collapsed_sections": []
    },
    "kernelspec": {
      "name": "python3",
      "display_name": "Python 3"
    },
    "accelerator": "GPU"
  },
  "cells": [
    {
      "metadata": {
        "id": "F2CIlWZ7a2KZ",
        "colab_type": "code",
        "outputId": "176cede7-51f2-481d-9015-2af857a1c361",
        "colab": {
          "base_uri": "https://localhost:8080/",
          "height": 146
        }
      },
      "cell_type": "code",
      "source": [
        "from __future__ import print_function\n",
        "from bs4 import BeautifulSoup\n",
        "from urllib.request import urlopen\n",
        "import re\n",
        "import pandas as pd\n",
        "import pickle\n",
        "import threading\n",
        "import sys\n",
        "\n",
        "class FOMC (object):\n",
        "    '''\n",
        "    A convenient class for extracting meeting minutes from the FOMC website\n",
        "    Example Usage:  \n",
        "        fomc = FOMC()\n",
        "        df = fomc.get_statements()\n",
        "        fomc.pickle(\"./df_minutes.pickle\")\n",
        "    '''\n",
        "\n",
        "    def __init__(self, base_url='https://www.federalreserve.gov', \n",
        "                 calendar_url='https://www.federalreserve.gov/monetarypolicy/fomccalendars.htm',\n",
        "                 historical_date = 2014,\n",
        "                 verbose = True,\n",
        "                 max_threads = 10):\n",
        "\n",
        "        self.base_url = base_url\n",
        "        self.calendar_url = calendar_url\n",
        "        self.df = None\n",
        "        self.links = None\n",
        "        self.dates = None\n",
        "        self.articles = None\n",
        "        self.verbose = verbose\n",
        "        self.HISTORICAL_DATE = historical_date\n",
        "        self.MAX_THREADS = max_threads\n",
        "    \n",
        "\n",
        "    def _get_links(self, from_year):\n",
        "        '''\n",
        "        private function that sets all the links for the FOMC meetings from the giving from_year\n",
        "        to the current most recent year\n",
        "        '''\n",
        "        if self.verbose:\n",
        "            print(\"Getting links...\")\n",
        "        self.links = []\n",
        "        fomc_meetings_socket = urlopen(self.calendar_url)\n",
        "        soup = BeautifulSoup(fomc_meetings_socket, 'html.parser')\n",
        "        \n",
        "        statements = soup.find_all('a', href=re.compile('^/monetarypolicy/fomcminutes\\d{8}.htm'))\n",
        "        self.links = [statement.attrs['href'] for statement in statements] \n",
        "        print(self.links)\n",
        "        \n",
        "        if from_year <= self.HISTORICAL_DATE:   \n",
        "            for year in range(from_year, self.HISTORICAL_DATE + 1):\n",
        "                fomc_yearly_url = self.base_url + '/monetarypolicy/fomchistorical' + str(year) + '.htm'\n",
        "                print(fomc_yearly_url)\n",
        "                fomc_yearly_socket = urlopen(fomc_yearly_url)\n",
        "                soup_yearly = BeautifulSoup(fomc_yearly_socket, 'html.parser')\n",
        "                statements_historical = soup_yearly.findAll('a', text = 'Statement')\n",
        "                for statement_historical in statements_historical:\n",
        "                    self.links.append(statement_historical.attrs['href'])\n",
        "        print(self.links)\n",
        "\n",
        "    def _date_from_link(self, link):\n",
        "        date = re.findall('[0-9]{8}', link)[0]\n",
        "        if date[4] == '0':\n",
        "            date = \"{}/{}/{}\".format(date[:4], date[5:6], date[6:])\n",
        "        else:\n",
        "            date = \"{}/{}/{}\".format(date[:4], date[4:6], date[6:])\n",
        "        return date\n",
        "\n",
        "\n",
        "    def _add_article(self, link, index=None):\n",
        "        '''\n",
        "        adds the related article for 1 link into the instance variable\n",
        "        index is the index in the article to add to. Due to concurrent\n",
        "        prcessing, we need to make sure the articles are stored in the\n",
        "        right order\n",
        "        '''\n",
        "        if self.verbose:\n",
        "            sys.stdout.write(\".\")\n",
        "            sys.stdout.flush()\n",
        "\n",
        "        # date of the article content\n",
        "        self.dates.append(self._date_from_link(link))\n",
        "        statement_socket = urlopen(self.base_url + link)\n",
        "        statement = BeautifulSoup(statement_socket, 'html.parser')\n",
        "        paragraphs = statement.findAll('p')\n",
        "        self.articles[index]= \"\\n\\n\".join([paragraph.get_text().strip() for paragraph in paragraphs])\n",
        "\n",
        "\n",
        "    def _get_articles_multi_threaded(self):\n",
        "        '''\n",
        "        gets all articles using multi-threading\n",
        "        '''\n",
        "        if self.verbose:\n",
        "            print(\"Getting articles - Multi-threaded...\")\n",
        "\n",
        "        self.dates, self.articles = [], ['']*len(self.links)\n",
        "        jobs = []\n",
        "        # initiate and start threads:\n",
        "        index = 0\n",
        "        while index < len(self.links):\n",
        "            if len(jobs) < self.MAX_THREADS:\n",
        "                t = threading.Thread(target=self._add_article, args=(self.links[index],index,))\n",
        "                jobs.append(t)\n",
        "                t.start()\n",
        "                index += 1\n",
        "            else:    # wait for threads to complete and join them back into the main thread\n",
        "                t = jobs.pop(0)\n",
        "                t.join()\n",
        "        for t in jobs:\n",
        "            t.join()\n",
        "\n",
        "        for row in range(len(self.articles)):\n",
        "            self.articles[row] = self.articles[row].strip()\n",
        "\n",
        "\n",
        "    def get_statements(self, from_year=2015):\n",
        "        '''\n",
        "        Returns a Pandas DataFrame of meeting minutes with the date as the index\n",
        "        uses a date range of from_year to the most current\n",
        "        Input from_year is ignored if it is within the last 5 years as this is meant for \n",
        "        parsing much older years\n",
        "        '''\n",
        "        self._get_links(from_year)\n",
        "        print(\"There are\", len(self.links), 'statements')\n",
        "        self._get_articles_multi_threaded()\n",
        "\n",
        "        self.df = pd.DataFrame(self.articles, index = pd.to_datetime(self.dates)).sort_index()\n",
        "        self.df.columns = ['statements']\n",
        "        return self.df\n",
        "\n",
        "\n",
        "    def pick_df(self, filename=\"../data/minutes.pickle\"):\n",
        "        if filename:\n",
        "            if self.verbose:\n",
        "                print(\"Writing to\", filename)        \n",
        "            with open(filename, \"wb\") as output_file:\n",
        "                    pickle.dump(self.df, output_file)\n",
        "\n",
        "if __name__ == '__main__':\n",
        "    #Example Usage\n",
        "    fomc = FOMC()\n",
        "    d = fomc.get_statements()"
      ],
      "execution_count": 1,
      "outputs": [
        {
          "output_type": "stream",
          "text": [
            "Getting links...\n",
            "['/monetarypolicy/fomcminutes20190130.htm', '/monetarypolicy/fomcminutes20180131.htm', '/monetarypolicy/fomcminutes20180321.htm', '/monetarypolicy/fomcminutes20180502.htm', '/monetarypolicy/fomcminutes20180613.htm', '/monetarypolicy/fomcminutes20180801.htm', '/monetarypolicy/fomcminutes20180926.htm', '/monetarypolicy/fomcminutes20181108.htm', '/monetarypolicy/fomcminutes20181219.htm', '/monetarypolicy/fomcminutes20170201.htm', '/monetarypolicy/fomcminutes20170315.htm', '/monetarypolicy/fomcminutes20170503.htm', '/monetarypolicy/fomcminutes20170614.htm', '/monetarypolicy/fomcminutes20170726.htm', '/monetarypolicy/fomcminutes20170920.htm', '/monetarypolicy/fomcminutes20171101.htm', '/monetarypolicy/fomcminutes20171213.htm', '/monetarypolicy/fomcminutes20160127.htm', '/monetarypolicy/fomcminutes20160316.htm', '/monetarypolicy/fomcminutes20160427.htm', '/monetarypolicy/fomcminutes20160615.htm', '/monetarypolicy/fomcminutes20160727.htm', '/monetarypolicy/fomcminutes20160921.htm', '/monetarypolicy/fomcminutes20161102.htm', '/monetarypolicy/fomcminutes20161214.htm', '/monetarypolicy/fomcminutes20150128.htm', '/monetarypolicy/fomcminutes20150318.htm', '/monetarypolicy/fomcminutes20150429.htm', '/monetarypolicy/fomcminutes20150617.htm', '/monetarypolicy/fomcminutes20150729.htm', '/monetarypolicy/fomcminutes20150917.htm', '/monetarypolicy/fomcminutes20151028.htm', '/monetarypolicy/fomcminutes20151216.htm', '/monetarypolicy/fomcminutes20140129.htm', '/monetarypolicy/fomcminutes20140319.htm', '/monetarypolicy/fomcminutes20140430.htm', '/monetarypolicy/fomcminutes20140618.htm', '/monetarypolicy/fomcminutes20140730.htm', '/monetarypolicy/fomcminutes20140917.htm', '/monetarypolicy/fomcminutes20141029.htm', '/monetarypolicy/fomcminutes20141217.htm']\n",
            "['/monetarypolicy/fomcminutes20190130.htm', '/monetarypolicy/fomcminutes20180131.htm', '/monetarypolicy/fomcminutes20180321.htm', '/monetarypolicy/fomcminutes20180502.htm', '/monetarypolicy/fomcminutes20180613.htm', '/monetarypolicy/fomcminutes20180801.htm', '/monetarypolicy/fomcminutes20180926.htm', '/monetarypolicy/fomcminutes20181108.htm', '/monetarypolicy/fomcminutes20181219.htm', '/monetarypolicy/fomcminutes20170201.htm', '/monetarypolicy/fomcminutes20170315.htm', '/monetarypolicy/fomcminutes20170503.htm', '/monetarypolicy/fomcminutes20170614.htm', '/monetarypolicy/fomcminutes20170726.htm', '/monetarypolicy/fomcminutes20170920.htm', '/monetarypolicy/fomcminutes20171101.htm', '/monetarypolicy/fomcminutes20171213.htm', '/monetarypolicy/fomcminutes20160127.htm', '/monetarypolicy/fomcminutes20160316.htm', '/monetarypolicy/fomcminutes20160427.htm', '/monetarypolicy/fomcminutes20160615.htm', '/monetarypolicy/fomcminutes20160727.htm', '/monetarypolicy/fomcminutes20160921.htm', '/monetarypolicy/fomcminutes20161102.htm', '/monetarypolicy/fomcminutes20161214.htm', '/monetarypolicy/fomcminutes20150128.htm', '/monetarypolicy/fomcminutes20150318.htm', '/monetarypolicy/fomcminutes20150429.htm', '/monetarypolicy/fomcminutes20150617.htm', '/monetarypolicy/fomcminutes20150729.htm', '/monetarypolicy/fomcminutes20150917.htm', '/monetarypolicy/fomcminutes20151028.htm', '/monetarypolicy/fomcminutes20151216.htm', '/monetarypolicy/fomcminutes20140129.htm', '/monetarypolicy/fomcminutes20140319.htm', '/monetarypolicy/fomcminutes20140430.htm', '/monetarypolicy/fomcminutes20140618.htm', '/monetarypolicy/fomcminutes20140730.htm', '/monetarypolicy/fomcminutes20140917.htm', '/monetarypolicy/fomcminutes20141029.htm', '/monetarypolicy/fomcminutes20141217.htm']\n",
            "There are 41 statements\n",
            "Getting articles - Multi-threaded...\n",
            "........................................."
          ],
          "name": "stdout"
        }
      ]
    },
    {
      "metadata": {
        "id": "BkDPKR7ZuIu3",
        "colab_type": "code",
        "colab": {}
      },
      "cell_type": "code",
      "source": [
        "d.to_csv('fomc.csv', sep=',', encoding = 'utf-8')"
      ],
      "execution_count": 0,
      "outputs": []
    },
    {
      "metadata": {
        "id": "F-cicDpaVgkB",
        "colab_type": "code",
        "outputId": "6b9c266d-d3b2-4050-c516-b683746ec47f",
        "colab": {
          "base_uri": "https://localhost:8080/",
          "height": 110
        }
      },
      "cell_type": "code",
      "source": [
        "!pip install contractions"
      ],
      "execution_count": 3,
      "outputs": [
        {
          "output_type": "stream",
          "text": [
            "Collecting contractions\n",
            "  Downloading https://files.pythonhosted.org/packages/52/52/a15f0fb338a462045c7c87a35dbaeda11738c45aa9d2f5c76ac191d6adff/contractions-0.0.17-py2.py3-none-any.whl\n",
            "Installing collected packages: contractions\n",
            "Successfully installed contractions-0.0.17\n"
          ],
          "name": "stdout"
        }
      ]
    },
    {
      "metadata": {
        "id": "7ngw2PwKE5sX",
        "colab_type": "code",
        "colab": {}
      },
      "cell_type": "code",
      "source": [
        "import contractions\n",
        "\n",
        "df = d.copy()\n",
        "df['statements'] = df['statements'].apply(lambda x: x.replace('\\n', ' '))\n",
        "df['statements'] = df['statements'].apply(lambda x: contractions.fix(x))\n",
        "df['statements'] = df['statements'].apply(lambda x: x.lower())"
      ],
      "execution_count": 0,
      "outputs": []
    },
    {
      "metadata": {
        "id": "ai4_qgsXHW8s",
        "colab_type": "code",
        "colab": {}
      },
      "cell_type": "code",
      "source": [
        "#remove numbers and single characters\n",
        "\n",
        "df['statements'] = df['statements'].apply(lambda x: ' '.join(re.sub(r\"[^a-zA-z]+\",\" \",x).split()))\n",
        "df['statements'] = df['statements'].apply(lambda x: ' '.join(re.sub(r\"\\b[a-zA-Z]\\b\", \" \", x).split()))"
      ],
      "execution_count": 0,
      "outputs": []
    },
    {
      "metadata": {
        "id": "YqWUwYwpjf6Q",
        "colab_type": "code",
        "colab": {}
      },
      "cell_type": "code",
      "source": [
        "#Remove punctuations\n",
        "df['statements'] = df['statements'].str.replace('[^\\w\\s]','')"
      ],
      "execution_count": 0,
      "outputs": []
    },
    {
      "metadata": {
        "id": "J46N6nppqIZj",
        "colab_type": "code",
        "outputId": "f4a0ddc9-05ed-4d15-e001-d1bc90f22116",
        "colab": {
          "base_uri": "https://localhost:8080/",
          "height": 72
        }
      },
      "cell_type": "code",
      "source": [
        "import nltk\n",
        "nltk.download('stopwords')"
      ],
      "execution_count": 7,
      "outputs": [
        {
          "output_type": "stream",
          "text": [
            "[nltk_data] Downloading package stopwords to /root/nltk_data...\n",
            "[nltk_data]   Unzipping corpora/stopwords.zip.\n"
          ],
          "name": "stdout"
        },
        {
          "output_type": "execute_result",
          "data": {
            "text/plain": [
              "True"
            ]
          },
          "metadata": {
            "tags": []
          },
          "execution_count": 7
        }
      ]
    },
    {
      "metadata": {
        "id": "8GRCraoep13d",
        "colab_type": "code",
        "colab": {}
      },
      "cell_type": "code",
      "source": [
        "#Remove stopwords\n",
        "from nltk.corpus import stopwords\n",
        "stop = stopwords.words('english')\n",
        "df['statements'] = df['statements'].apply(lambda x: \" \".join(x for x in x.split() if x not in stop))"
      ],
      "execution_count": 0,
      "outputs": []
    },
    {
      "metadata": {
        "id": "wAlgDLrmu9Lo",
        "colab_type": "code",
        "outputId": "7d581560-e2ad-4d1e-cc11-aab6a8c33c4d",
        "colab": {
          "base_uri": "https://localhost:8080/",
          "height": 145
        }
      },
      "cell_type": "code",
      "source": [
        "#Lemmatize the text\n",
        "nltk.download('wordnet')\n",
        "nltk.download('punkt')\n",
        "\n",
        "#POS tagging\n",
        "nltk.download('averaged_perceptron_tagger')\n",
        "\n",
        "from nltk.stem import WordNetLemmatizer\n",
        "from nltk.corpus import wordnet\n",
        "\n",
        "lemmatizer = WordNetLemmatizer()\n",
        "\n",
        "def get_wordnet_pos(word):\n",
        "  \"\"\"Map POS tag to first character lemmatize() accepts\"\"\"\n",
        "  tag = nltk.pos_tag([word])[0][1][0].upper()\n",
        "  tag_dict = {\"J\": wordnet.ADJ,\n",
        "                \"N\": wordnet.NOUN,\n",
        "                \"V\": wordnet.VERB,\n",
        "                \"R\": wordnet.ADV}\n",
        "\n",
        "  return tag_dict.get(tag, wordnet.NOUN)\n",
        "\n",
        "df['statements'] = df['statements'].apply(lambda x: \" \".join([ lemmatizer.lemmatize(word, get_wordnet_pos(word)) for word in nltk.word_tokenize(x)]))"
      ],
      "execution_count": 9,
      "outputs": [
        {
          "output_type": "stream",
          "text": [
            "[nltk_data] Downloading package wordnet to /root/nltk_data...\n",
            "[nltk_data]   Unzipping corpora/wordnet.zip.\n",
            "[nltk_data] Downloading package punkt to /root/nltk_data...\n",
            "[nltk_data]   Unzipping tokenizers/punkt.zip.\n",
            "[nltk_data] Downloading package averaged_perceptron_tagger to\n",
            "[nltk_data]     /root/nltk_data...\n",
            "[nltk_data]   Unzipping taggers/averaged_perceptron_tagger.zip.\n"
          ],
          "name": "stdout"
        }
      ]
    },
    {
      "metadata": {
        "id": "sBSVjYoMUKEW",
        "colab_type": "code",
        "colab": {}
      },
      "cell_type": "code",
      "source": [
        "from collections import Counter\n",
        "import itertools\n",
        "\n",
        "import nltk\n",
        "import math\n",
        "import re\n",
        "import numpy as np\n",
        "from scipy import sparse\n",
        "from scipy.sparse import linalg \n",
        "from sklearn.preprocessing import normalize\n",
        "from sklearn.metrics.pairwise import cosine_similarity"
      ],
      "execution_count": 0,
      "outputs": []
    },
    {
      "metadata": {
        "id": "p_iGOC9ojxA7",
        "colab_type": "code",
        "outputId": "b8c665b4-f098-43e0-af93-f1e811c2f783",
        "colab": {
          "base_uri": "https://localhost:8080/",
          "height": 110
        }
      },
      "cell_type": "code",
      "source": [
        "#unigrams\n",
        "\n",
        "tok2indx = dict()\n",
        "unigram_counts = Counter()\n",
        "statements = df['statements'].tolist()\n",
        "\n",
        "for ii, statement in enumerate(statements):\n",
        "    state = statement.split()\n",
        "    if ii % 20000 == 0:\n",
        "        print(f'finished {ii/len(statements):.2%} of headlines')\n",
        "    for token in state:\n",
        "        unigram_counts[token] += 1\n",
        "        if token not in tok2indx:\n",
        "            tok2indx[token] = len(tok2indx)\n",
        "indx2tok = {indx:tok for tok,indx in tok2indx.items()}\n",
        "print('done')\n",
        "print('vocabulary size: {}'.format(len(unigram_counts)))\n",
        "print('most common: {}'.format(unigram_counts.most_common(10)))"
      ],
      "execution_count": 11,
      "outputs": [
        {
          "output_type": "stream",
          "text": [
            "finished 0.00% of headlines\n",
            "done\n",
            "vocabulary size: 3907\n",
            "most common: [('market', 3353), ('rate', 3347), ('inflation', 3168), ('committee', 3103), ('federal', 2513), ('participant', 2299), ('economic', 2087), ('policy', 2015), ('price', 1689), ('increase', 1663)]\n"
          ],
          "name": "stdout"
        }
      ]
    },
    {
      "metadata": {
        "id": "gfI2defaD4pu",
        "colab_type": "code",
        "outputId": "81b64cea-7f69-4f36-87c8-ef57353387e3",
        "colab": {
          "base_uri": "https://localhost:8080/",
          "height": 54
        }
      },
      "cell_type": "code",
      "source": [
        "#Skipgrams\n",
        "\n",
        "back_window = 2\n",
        "front_window = 2\n",
        "skipgram_counts = Counter()\n",
        "for inum, statement in enumerate(statements):\n",
        "    state = statement.split()\n",
        "    for ifw, fw in enumerate(state):\n",
        "        icw_min = max(0, ifw - back_window)\n",
        "        icw_max = min(len(state) - 1, ifw + front_window)\n",
        "        icws = [ii for ii in range(icw_min, icw_max + 1) if ii != ifw]\n",
        "        for icw in icws:\n",
        "            skipgram = (state[ifw], state[icw])\n",
        "            skipgram_counts[skipgram] += 1    \n",
        "    if inum % 20000 == 0:\n",
        "        print(f'finished {inum/len(statements):.2%} of statements')\n",
        "        \n",
        "print('done')"
      ],
      "execution_count": 12,
      "outputs": [
        {
          "output_type": "stream",
          "text": [
            "finished 0.00% of statements\n",
            "done\n"
          ],
          "name": "stdout"
        }
      ]
    },
    {
      "metadata": {
        "id": "BoFOPwd-7RjZ",
        "colab_type": "code",
        "outputId": "77c0a8b2-b9b4-4d64-f16b-be53aec08b51",
        "colab": {
          "base_uri": "https://localhost:8080/",
          "height": 74
        }
      },
      "cell_type": "code",
      "source": [
        "print('number of skipgrams: {}'.format(len(skipgram_counts)))\n",
        "print('most common: {}'.format(skipgram_counts.most_common(10)))"
      ],
      "execution_count": 13,
      "outputs": [
        {
          "output_type": "stream",
          "text": [
            "number of skipgrams: 213212\n",
            "most common: [(('federal', 'fund'), 1154), (('fund', 'federal'), 1154), (('federal', 'rate'), 1151), (('rate', 'federal'), 1151), (('board', 'governor'), 1143), (('governor', 'board'), 1143), (('fund', 'rate'), 1106), (('rate', 'fund'), 1106), (('labor', 'market'), 1094), (('market', 'labor'), 1094)]\n"
          ],
          "name": "stdout"
        }
      ]
    },
    {
      "metadata": {
        "id": "vP5ev8zp49Lg",
        "colab_type": "code",
        "outputId": "61b20064-0b18-4c1a-e417-f4a5ad33cd8e",
        "colab": {
          "base_uri": "https://localhost:8080/",
          "height": 54
        }
      },
      "cell_type": "code",
      "source": [
        "#Word-Word Count Matrix\n",
        "\n",
        "row_indxs = []\n",
        "col_indxs = []\n",
        "data_values = []\n",
        "ii = 0\n",
        "\n",
        "for (tok1, tok2), sg_count in skipgram_counts.items():\n",
        "  ii += 1\n",
        "  if ii%100000 == 0:\n",
        "    print(f'finished {ii/len(skipgram_counts):.2%} of skipgrams')\n",
        "    \n",
        "  tok1_indx = tok2indx[tok1]\n",
        "  tok2_indx = tok2indx[tok2]\n",
        "  \n",
        "  row_indxs.append(tok1_indx)\n",
        "  col_indxs.append(tok2_indx)\n",
        "  data_values.append(sg_count)\n",
        "  \n",
        "wwcnt_matrix = sparse.csr_matrix((data_values, (row_indxs, col_indxs)))\n",
        "  "
      ],
      "execution_count": 14,
      "outputs": [
        {
          "output_type": "stream",
          "text": [
            "finished 46.90% of skipgrams\n",
            "finished 93.80% of skipgrams\n"
          ],
          "name": "stdout"
        }
      ]
    },
    {
      "metadata": {
        "id": "4XtEj1PKDnWi",
        "colab_type": "code",
        "colab": {}
      },
      "cell_type": "code",
      "source": [
        "#Word Similarity with Sparse Count Matrices\n",
        "\n",
        "def ww_sim(word, mat, topn=10):\n",
        "  \"\"\"Calculate topn most similar words to word\"\"\"\n",
        "  indx = tok2indx[word]\n",
        "  if isinstance(mat, sparse.csr_matrix):\n",
        "    v1 = mat.getrow(indx)\n",
        "  else:\n",
        "    v1 = mat[indx:indx+1, :]\n",
        "    \n",
        "  sims = cosine_similarity(mat, v1).flatten()\n",
        "  sindxs = np.argsort(-sims)\n",
        "  sim_word_scores = [(indx2tok[sindx], sims[sindx]) for sindx in sindxs[0:topn]]\n",
        "  \n",
        "  return sim_word_scores"
      ],
      "execution_count": 0,
      "outputs": []
    },
    {
      "metadata": {
        "id": "9RyTjvghHz2_",
        "colab_type": "code",
        "outputId": "4c2a817e-0468-498d-83ca-690105427de5",
        "colab": {
          "base_uri": "https://localhost:8080/",
          "height": 35
        }
      },
      "cell_type": "code",
      "source": [
        "#Pointwise Mutual Information Matrices\n",
        "\n",
        "num_skipgrams = wwcnt_matrix.sum()\n",
        "assert(sum(skipgram_counts.values())==num_skipgrams)\n",
        "\n",
        "# for creating sparce matrices\n",
        "row_indxs = []\n",
        "col_indxs = []\n",
        "\n",
        "pmi_dat_values = []\n",
        "ppmi_dat_values = []\n",
        "spmi_dat_values = []\n",
        "sppmi_dat_values = []\n",
        "\n",
        "# smoothing\n",
        "alpha = 0.75\n",
        "nca_denom = np.sum(np.array(wwcnt_matrix.sum(axis=0)).flatten()**alpha)\n",
        "sum_over_words = np.array(wwcnt_matrix.sum(axis=0)).flatten()\n",
        "sum_over_words_alpha = sum_over_words**alpha\n",
        "sum_over_contexts = np.array(wwcnt_matrix.sum(axis=1)).flatten()\n",
        "\n",
        "ii = 0\n",
        "for (tok1, tok2), sg_count in skipgram_counts.items():\n",
        "    ii += 1\n",
        "    if ii % 1000000 == 0:\n",
        "        print(f'finished {ii/len(skipgram_counts):.2%} of skipgrams')\n",
        "    tok1_indx = tok2indx[tok1]\n",
        "    tok2_indx = tok2indx[tok2]\n",
        "    \n",
        "    nwc = sg_count\n",
        "    Pwc = nwc / num_skipgrams\n",
        "    nw = sum_over_contexts[tok1_indx]\n",
        "    Pw = nw / num_skipgrams\n",
        "    nc = sum_over_words[tok2_indx]\n",
        "    Pc = nc / num_skipgrams\n",
        "    \n",
        "    nca = sum_over_words_alpha[tok2_indx]\n",
        "    Pca = nca / nca_denom\n",
        "    \n",
        "    pmi = np.log2(Pwc/(Pw*Pc))\n",
        "    ppmi = max(pmi, 0)\n",
        "    \n",
        "    spmi = np.log2(Pwc/(Pw*Pca))\n",
        "    sppmi = max(spmi, 0)\n",
        "    \n",
        "    row_indxs.append(tok1_indx)\n",
        "    col_indxs.append(tok2_indx)\n",
        "    pmi_dat_values.append(pmi)\n",
        "    ppmi_dat_values.append(ppmi)\n",
        "    spmi_dat_values.append(spmi)\n",
        "    sppmi_dat_values.append(sppmi)\n",
        "        \n",
        "pmi_mat = sparse.csr_matrix((pmi_dat_values, (row_indxs, col_indxs)))\n",
        "ppmi_mat = sparse.csr_matrix((ppmi_dat_values, (row_indxs, col_indxs)))\n",
        "spmi_mat = sparse.csr_matrix((spmi_dat_values, (row_indxs, col_indxs)))\n",
        "sppmi_mat = sparse.csr_matrix((sppmi_dat_values, (row_indxs, col_indxs)))\n",
        "\n",
        "print('done')"
      ],
      "execution_count": 16,
      "outputs": [
        {
          "output_type": "stream",
          "text": [
            "done\n"
          ],
          "name": "stdout"
        }
      ]
    },
    {
      "metadata": {
        "id": "TMGBasuOJLl1",
        "colab_type": "code",
        "outputId": "82253b91-810e-4fbf-aa9a-e0baf1843a13",
        "colab": {
          "base_uri": "https://localhost:8080/",
          "height": 199
        }
      },
      "cell_type": "code",
      "source": [
        "#Word Similarity with Sparse PMI Matrices\n",
        "\n",
        "ww_sim('rise', ppmi_mat)"
      ],
      "execution_count": 17,
      "outputs": [
        {
          "output_type": "execute_result",
          "data": {
            "text/plain": [
              "[('rise', 1.0000000000000007),\n",
              " ('increase', 0.2898179481171413),\n",
              " ('fell', 0.28980835909985947),\n",
              " ('decline', 0.2772229063501382),\n",
              " ('move', 0.2745317106890779),\n",
              " ('expand', 0.2654722389469449),\n",
              " ('grow', 0.2588835512080484),\n",
              " ('risen', 0.2521566641412171),\n",
              " ('decrease', 0.24256289264322228),\n",
              " ('net', 0.239755433590515)]"
            ]
          },
          "metadata": {
            "tags": []
          },
          "execution_count": 17
        }
      ]
    },
    {
      "metadata": {
        "id": "-QZem8REJXl4",
        "colab_type": "code",
        "outputId": "708e5ed0-5b51-499a-e228-6c1575a8a27a",
        "colab": {
          "base_uri": "https://localhost:8080/",
          "height": 199
        }
      },
      "cell_type": "code",
      "source": [
        "ww_sim('rise', sppmi_mat)"
      ],
      "execution_count": 18,
      "outputs": [
        {
          "output_type": "execute_result",
          "data": {
            "text/plain": [
              "[('rise', 0.9999999999999997),\n",
              " ('increase', 0.36048308535480017),\n",
              " ('expand', 0.3342724938114509),\n",
              " ('decline', 0.33049312709763157),\n",
              " ('fell', 0.32551682900820506),\n",
              " ('move', 0.3190846637508397),\n",
              " ('grow', 0.3189187284339197),\n",
              " ('risen', 0.3157696450293808),\n",
              " ('decrease', 0.306837431456608),\n",
              " ('edge', 0.2885147754839251)]"
            ]
          },
          "metadata": {
            "tags": []
          },
          "execution_count": 18
        }
      ]
    },
    {
      "metadata": {
        "id": "QVKeLF2XZmdf",
        "colab_type": "code",
        "outputId": "3e0737ef-706e-4e97-adbc-5e0ae63cfc79",
        "colab": {
          "base_uri": "https://localhost:8080/",
          "height": 199
        }
      },
      "cell_type": "code",
      "source": [
        "ww_sim('fell', sppmi_mat)"
      ],
      "execution_count": 19,
      "outputs": [
        {
          "output_type": "execute_result",
          "data": {
            "text/plain": [
              "[('fell', 0.9999999999999996),\n",
              " ('sharply', 0.39048542205500486),\n",
              " ('decline', 0.3292086186984769),\n",
              " ('decrease', 0.32687744399038393),\n",
              " ('rise', 0.32551682900820506),\n",
              " ('widen', 0.31367080840073686),\n",
              " ('move', 0.28898464177727257),\n",
              " ('drop', 0.27087355541690394),\n",
              " ('narrow', 0.268178538318249),\n",
              " ('notably', 0.26131576159522474)]"
            ]
          },
          "metadata": {
            "tags": []
          },
          "execution_count": 19
        }
      ]
    },
    {
      "metadata": {
        "id": "AGx0-2G1Z0Jo",
        "colab_type": "code",
        "colab": {}
      },
      "cell_type": "code",
      "source": [
        "#Singular Value Decomposition\n",
        "pmi_use = sppmi_mat\n",
        "embedding_size = 300\n",
        "uu, ss, vv = linalg.svds(pmi_use, embedding_size)"
      ],
      "execution_count": 0,
      "outputs": []
    },
    {
      "metadata": {
        "id": "4FbAOg_OaOnz",
        "colab_type": "code",
        "outputId": "67ad8278-e607-448b-82ad-8971028974b5",
        "colab": {
          "base_uri": "https://localhost:8080/",
          "height": 108
        }
      },
      "cell_type": "code",
      "source": [
        "print('vocab size: {}'.format(len(unigram_counts)))\n",
        "print('embedding size: {}'.format(embedding_size))\n",
        "print('uu.shape: {}'.format(uu.shape))\n",
        "print('ss.shape: {}'.format(ss.shape))\n",
        "print('vv.shape: {}'.format(vv.shape))"
      ],
      "execution_count": 21,
      "outputs": [
        {
          "output_type": "stream",
          "text": [
            "vocab size: 3907\n",
            "embedding size: 300\n",
            "uu.shape: (3907, 300)\n",
            "ss.shape: (300,)\n",
            "vv.shape: (300, 3907)\n"
          ],
          "name": "stdout"
        }
      ]
    },
    {
      "metadata": {
        "id": "QjQiqGj5acV3",
        "colab_type": "code",
        "colab": {}
      },
      "cell_type": "code",
      "source": [
        "unorm = uu / np.sqrt(np.sum(uu*uu, axis=1, keepdims=True))\n",
        "vnorm = vv / np.sqrt(np.sum(vv*vv, axis=0, keepdims=True))\n",
        "sd = np.diag(ss)\n",
        "word_vecs = np.dot(uu, sd)\n",
        "word_vecs_norm = word_vecs / np.sqrt(np.sum(word_vecs*word_vecs, axis=1, keepdims=True))"
      ],
      "execution_count": 0,
      "outputs": []
    },
    {
      "metadata": {
        "id": "XPMnmNCIalDI",
        "colab_type": "code",
        "colab": {}
      },
      "cell_type": "code",
      "source": [
        "def word_sim_report(word, sim_mat):\n",
        "    sim_word_scores = ww_sim(word, word_vecs)\n",
        "    for sim_word, sim_score in sim_word_scores:\n",
        "        print(sim_word, sim_score)"
      ],
      "execution_count": 0,
      "outputs": []
    },
    {
      "metadata": {
        "id": "kUcXMup5anHk",
        "colab_type": "code",
        "outputId": "9286c925-a480-41c9-fda3-f957a7393302",
        "colab": {
          "base_uri": "https://localhost:8080/",
          "height": 199
        }
      },
      "cell_type": "code",
      "source": [
        "word = 'rise'\n",
        "word_sim_report(word, word_vecs)"
      ],
      "execution_count": 24,
      "outputs": [
        {
          "output_type": "stream",
          "text": [
            "rise 1.0000000000000004\n",
            "increase 0.7185674941829826\n",
            "decline 0.6280877492335876\n",
            "expand 0.6265858569026405\n",
            "move 0.6215206814242344\n",
            "decrease 0.5895867929072198\n",
            "risen 0.5831820774070964\n",
            "fell 0.5792822320890023\n",
            "grow 0.5272236284262142\n",
            "edge 0.5250365299229811\n"
          ],
          "name": "stdout"
        }
      ]
    },
    {
      "metadata": {
        "id": "IrwaBrOra2xu",
        "colab_type": "code",
        "outputId": "0399903c-8929-45a5-d860-25574539a31c",
        "colab": {
          "base_uri": "https://localhost:8080/",
          "height": 199
        }
      },
      "cell_type": "code",
      "source": [
        "word = 'decrease'\n",
        "word_sim_report(word, word_vecs)"
      ],
      "execution_count": 25,
      "outputs": [
        {
          "output_type": "stream",
          "text": [
            "decrease 0.9999999999999999\n",
            "decline 0.7575172047838452\n",
            "fell 0.6071064564987885\n",
            "rise 0.5895867929072198\n",
            "edge 0.559761255027509\n",
            "fall 0.5493199124356783\n",
            "increase 0.5449858272692297\n",
            "move 0.5353997108216786\n",
            "import 0.5053123643951685\n",
            "home 0.5022225140262848\n"
          ],
          "name": "stdout"
        }
      ]
    },
    {
      "metadata": {
        "id": "X9uGYxcvQcVD",
        "colab_type": "code",
        "outputId": "5ad4a342-5430-4b27-e98d-f3497cf54c41",
        "colab": {
          "base_uri": "https://localhost:8080/",
          "height": 199
        }
      },
      "cell_type": "code",
      "source": [
        "word_sim_report('beneficial', word_vecs)"
      ],
      "execution_count": 26,
      "outputs": [
        {
          "output_type": "stream",
          "text": [
            "beneficial 1.0\n",
            "feasibility 0.5474902312500859\n",
            "withdraw 0.5383003904466106\n",
            "bidder 0.5212472289577206\n",
            "false 0.5096284780789623\n",
            "acceptance 0.5081717910357395\n",
            "onetime 0.4978598611544588\n",
            "shorten 0.4915218295147545\n",
            "abrupt 0.48195893092379627\n",
            "incorrect 0.4812260741886288\n"
          ],
          "name": "stdout"
        }
      ]
    },
    {
      "metadata": {
        "id": "lI_RYzP5RK5Q",
        "colab_type": "code",
        "outputId": "18b4164a-8b34-433b-ac2e-763f0fbc31e9",
        "colab": {
          "base_uri": "https://localhost:8080/",
          "height": 199
        }
      },
      "cell_type": "code",
      "source": [
        "word_sim_report('fell', word_vecs)"
      ],
      "execution_count": 27,
      "outputs": [
        {
          "output_type": "stream",
          "text": [
            "fell 1.0\n",
            "sharply 0.6601450912459113\n",
            "decline 0.613176886413756\n",
            "decrease 0.6071064564987885\n",
            "move 0.5888512591797083\n",
            "rise 0.5792822320890023\n",
            "narrow 0.5217745701011596\n",
            "widen 0.5138647469610875\n",
            "notably 0.5075882547467794\n",
            "edge 0.5035657685808685\n"
          ],
          "name": "stdout"
        }
      ]
    },
    {
      "metadata": {
        "id": "R1YW89Zpm2G7",
        "colab_type": "code",
        "colab": {}
      },
      "cell_type": "code",
      "source": [
        "mat = np.dot(uu, np.dot(np.diag(ss), vv))"
      ],
      "execution_count": 0,
      "outputs": []
    },
    {
      "metadata": {
        "id": "H2-XKzuZ3d2z",
        "colab_type": "code",
        "outputId": "9bf6f230-555d-4231-c22f-9d88902631a5",
        "colab": {
          "base_uri": "https://localhost:8080/",
          "height": 35
        }
      },
      "cell_type": "code",
      "source": [
        "np.linalg.norm(mat - pmi_mat)"
      ],
      "execution_count": 29,
      "outputs": [
        {
          "output_type": "execute_result",
          "data": {
            "text/plain": [
              "1487.3240290235085"
            ]
          },
          "metadata": {
            "tags": []
          },
          "execution_count": 29
        }
      ]
    },
    {
      "metadata": {
        "id": "NWs6bBqR3hEH",
        "colab_type": "code",
        "outputId": "82daa3b5-44cf-4e93-d8d9-502eec3bb099",
        "colab": {
          "base_uri": "https://localhost:8080/",
          "height": 365
        }
      },
      "cell_type": "code",
      "source": [
        "import matplotlib.pyplot as plt\n",
        "\n",
        "plt.plot(ss)"
      ],
      "execution_count": 30,
      "outputs": [
        {
          "output_type": "execute_result",
          "data": {
            "text/plain": [
              "[<matplotlib.lines.Line2D at 0x7f644f8eada0>]"
            ]
          },
          "metadata": {
            "tags": []
          },
          "execution_count": 30
        },
        {
          "output_type": "display_data",
          "data": {
            "image/png": "[encoded data removed]",
            "text/plain": [
              "<Figure size 576x396 with 1 Axes>"
            ]
          },
          "metadata": {
            "tags": []
          }
        }
      ]
    },
    {
      "metadata": {
        "id": "nMjQgWageRev",
        "colab_type": "code",
        "colab": {}
      },
      "cell_type": "code",
      "source": [
        "def edge_sim(word, sim_words, word_vecs):\n",
        "  \"\"\"Calculate topn most similar words to word\"\"\"\n",
        "  indx = tok2indx[word]\n",
        "  w = word_vecs[indx:indx+1,:].flatten()\n",
        "  sim = []\n",
        "  for i in range(len(sim_words)):\n",
        "    idx = tok2indx[sim_words[i]]\n",
        "    v1 = word_vecs[idx:idx+1,:].flatten()\n",
        "    p = np.dot(w, v1)/(np.linalg.norm(w)*np.linalg.norm(v1))\n",
        "    value = np.arccos(-p)\n",
        "    if math.isnan(value):\n",
        "      value = 0.0\n",
        "    sim.append(value)\n",
        "  return sim"
      ],
      "execution_count": 0,
      "outputs": []
    },
    {
      "metadata": {
        "id": "pqz3ahYJURmv",
        "colab_type": "code",
        "colab": {}
      },
      "cell_type": "code",
      "source": [
        "row_indx = []\n",
        "col_indx = []\n",
        "scores = []\n",
        "\n",
        "ii = 0\n",
        "for tok1, sg_count in unigram_counts.items():\n",
        "    ii += 1\n",
        "    if ii % 100000 == 0:\n",
        "        print(f'finished {ii/len(skipgram_counts):.2%} of skipgrams')\n",
        "    tok1_indx = tok2indx[tok1]\n",
        "\n",
        "    word_scores  = ww_sim(tok1, word_vecs_norm, 8)\n",
        "    words = [x[0] for x in word_scores]\n",
        "    weights = edge_sim(tok1, words, word_vecs_norm)\n",
        "    i = 0\n",
        "    for sim_word, sim_score in word_scores:\n",
        "      row_indx.append(tok1_indx)\n",
        "      col_indx.append(tok2indx[sim_word])\n",
        "      scores.append(weights[i])\n",
        "      i = i+1\n",
        "\n",
        "weighted_mat = sparse.csr_matrix((scores, (row_indx, col_indx)))\n",
        "\n",
        "print('done')"
      ],
      "execution_count": 0,
      "outputs": []
    },
    {
      "metadata": {
        "id": "TdY3zo_-CFOk",
        "colab_type": "code",
        "colab": {}
      },
      "cell_type": "code",
      "source": [
        "#pre processing: remove months"
      ],
      "execution_count": 0,
      "outputs": []
    },
    {
      "metadata": {
        "id": "wiskDAD4n-7j",
        "colab_type": "code",
        "outputId": "1f59a031-ac95-4146-f2a0-3a28188aba8a",
        "colab": {
          "base_uri": "https://localhost:8080/",
          "height": 35
        }
      },
      "cell_type": "code",
      "source": [
        "weighted_mat.toarray().shape"
      ],
      "execution_count": 34,
      "outputs": [
        {
          "output_type": "execute_result",
          "data": {
            "text/plain": [
              "(3907, 3907)"
            ]
          },
          "metadata": {
            "tags": []
          },
          "execution_count": 34
        }
      ]
    },
    {
      "metadata": {
        "id": "697THf3Qpsen",
        "colab_type": "code",
        "colab": {}
      },
      "cell_type": "code",
      "source": [
        "def transition_matrix(L):\n",
        "  Dinv = np.diag([ (1. / np.sqrt(L[i].sum()) )if L[i].sum() > 0 else 0 for i in range(L.shape[0])])\n",
        "  T = Dinv.dot(L).dot(Dinv)\n",
        "  return T"
      ],
      "execution_count": 0,
      "outputs": []
    },
    {
      "metadata": {
        "id": "Z3utidCiROq5",
        "colab_type": "code",
        "colab": {}
      },
      "cell_type": "code",
      "source": [
        "POSITIVE_FINANCE = [\"successful\", \"excellent\", \"profit\", \"beneficial\", \"rise\", \"improve\", \"success\", \"gains\", \"positive\", \"increase\"]\n",
        "NEGATIVE_FINANCE = [\"negligent\", \"loss\", \"volatile\", \"wrong\", \"losses\", \"damages\", \"bad\", \"litigation\", \"failure\", \"down\", \"negative\", \"decrease\"]"
      ],
      "execution_count": 0,
      "outputs": []
    },
    {
      "metadata": {
        "id": "y5HyF4iiRX4N",
        "colab_type": "code",
        "colab": {}
      },
      "cell_type": "code",
      "source": [
        "def teleport_set(words, seeds):\n",
        "    return [i for i, w in enumerate(words) if w in seeds]\n",
        "\n",
        "def weighted_teleport_set(words, seed_weights):\n",
        "    return np.array([seed_weights[word] if word in seed_weights else 0.0 for word in words])\n",
        "\n",
        "def run_iterative(M, r, update_seeds, max_iter=50, epsilon=1e-6, **kwargs):\n",
        "    for i in range(max_iter):\n",
        "        last_r = np.array(r)\n",
        "        r = np.dot(M, r)\n",
        "        update_seeds(r)\n",
        "        if np.abs(r - last_r).sum() < epsilon:\n",
        "            print('converged')\n",
        "            break\n",
        "    return r\n",
        "\n",
        "def random_walk(embeddings, positive_seeds, negative_seeds, beta=0.9, **kwargs):\n",
        "    \"\"\"\n",
        "    Learns polarity scores via random walks with teleporation to seed sets.\n",
        "    Main method used in paper. \n",
        "    \"\"\"\n",
        "    def run_random_walk(M, teleport, beta, **kwargs):\n",
        "        def update_seeds(r):\n",
        "            r += (1 - beta) * teleport / np.sum(teleport)\n",
        "        return run_iterative(M * beta, np.ones(M.shape[1]) / M.shape[1], update_seeds, **kwargs)\n",
        "\n",
        "    if not type(positive_seeds) is dict:\n",
        "        positive_seeds = {word:1/300 for word in positive_seeds}\n",
        "        negative_seeds = {word:1/300 for word in negative_seeds}\n",
        "    words = [indx2tok[w] for w in range(weighted_mat.toarray().shape[0])]\n",
        "    M = transition_matrix(embeddings, **kwargs)\n",
        "    rpos = run_random_walk(M, weighted_teleport_set(words, positive_seeds), beta, **kwargs)\n",
        "    rneg = run_random_walk(M, weighted_teleport_set(words, negative_seeds), beta, **kwargs)\n",
        "    return {w: rpos[i] / (rpos[i] + rneg[i]) for i, w in enumerate(words)}"
      ],
      "execution_count": 0,
      "outputs": []
    },
    {
      "metadata": {
        "id": "gVB4LhACRhDP",
        "colab_type": "code",
        "colab": {}
      },
      "cell_type": "code",
      "source": [
        "p = random_walk(weighted_mat.toarray(), POSITIVE_FINANCE, NEGATIVE_FINANCE)"
      ],
      "execution_count": 0,
      "outputs": []
    },
    {
      "metadata": {
        "id": "3V5bQhyLRvcF",
        "colab_type": "code",
        "colab": {}
      },
      "cell_type": "code",
      "source": [
        "polarity_scores = pd.DataFrame.from_dict(p, orient='index')"
      ],
      "execution_count": 0,
      "outputs": []
    },
    {
      "metadata": {
        "id": "m0_Kw1Kuttth",
        "colab_type": "code",
        "colab": {}
      },
      "cell_type": "code",
      "source": [
        "polarity_scores.head()\n",
        "polarity_scores.columns = ['scores']"
      ],
      "execution_count": 0,
      "outputs": []
    },
    {
      "metadata": {
        "id": "-m1cNigwVXfO",
        "colab_type": "code",
        "outputId": "ac2ef05f-a3e0-45b0-c90b-353d143a5393",
        "colab": {
          "base_uri": "https://localhost:8080/",
          "height": 74
        }
      },
      "cell_type": "code",
      "source": [
        "from sklearn.preprocessing import StandardScaler\n",
        "\n",
        "scaler = StandardScaler()\n",
        "value_standardised = scaler.fit_transform(polarity_scores['scores'].reshape(-1,1))"
      ],
      "execution_count": 41,
      "outputs": [
        {
          "output_type": "stream",
          "text": [
            "/usr/local/lib/python3.6/dist-packages/ipykernel_launcher.py:4: FutureWarning: reshape is deprecated and will raise in a subsequent release. Please use .values.reshape(...) instead\n",
            "  after removing the cwd from sys.path.\n"
          ],
          "name": "stderr"
        }
      ]
    },
    {
      "metadata": {
        "id": "oG9oVmrNXDRL",
        "colab_type": "code",
        "colab": {}
      },
      "cell_type": "code",
      "source": [
        "polarity_scores['polarity_score'] = value_standardised "
      ],
      "execution_count": 0,
      "outputs": []
    },
    {
      "metadata": {
        "id": "PXpT3S8UZSMv",
        "colab_type": "code",
        "outputId": "84c8617a-3038-4ff8-9837-48916f658b61",
        "colab": {
          "base_uri": "https://localhost:8080/",
          "height": 72
        }
      },
      "cell_type": "code",
      "source": [
        "polarity_scores.loc['rise']"
      ],
      "execution_count": 43,
      "outputs": [
        {
          "output_type": "execute_result",
          "data": {
            "text/plain": [
              "scores            0.787318\n",
              "polarity_score    0.601873\n",
              "Name: rise, dtype: float64"
            ]
          },
          "metadata": {
            "tags": []
          },
          "execution_count": 43
        }
      ]
    },
    {
      "metadata": {
        "id": "6xk5vfeLs4v4",
        "colab_type": "code",
        "colab": {}
      },
      "cell_type": "code",
      "source": [
        "polarity_scores.to_csv('lexicon_pos.csv', sep=\",\", encoding='utf-8')"
      ],
      "execution_count": 0,
      "outputs": []
    },
    {
      "metadata": {
        "id": "BFIr56GQ3pJ0",
        "colab_type": "code",
        "outputId": "a00ad399-e717-42fa-9527-f5acfbf68765",
        "colab": {
          "base_uri": "https://localhost:8080/",
          "height": 217
        }
      },
      "cell_type": "code",
      "source": [
        "polarity_scores.iloc[10:20, 0]"
      ],
      "execution_count": 54,
      "outputs": [
        {
          "output_type": "execute_result",
          "data": {
            "text/plain": [
              "stable       0.804975\n",
              "monetary     0.817317\n",
              "financial    0.742415\n",
              "system       0.764929\n",
              "open         0.830034\n",
              "market       0.740581\n",
              "committee    0.860088\n",
              "policy       0.801888\n",
              "principle    0.781501\n",
              "practice     0.934090\n",
              "Name: scores, dtype: float64"
            ]
          },
          "metadata": {
            "tags": []
          },
          "execution_count": 54
        }
      ]
    },
    {
      "metadata": {
        "id": "yZ_E9xLLU3Mi",
        "colab_type": "code",
        "colab": {}
      },
      "cell_type": "code",
      "source": [
        ""
      ],
      "execution_count": 0,
      "outputs": []
    }
  ]
}